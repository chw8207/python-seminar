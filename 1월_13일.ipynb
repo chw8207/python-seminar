{
  "nbformat": 4,
  "nbformat_minor": 0,
  "metadata": {
    "colab": {
      "provenance": [],
      "mount_file_id": "1TSFKHIUzgTxM4byMouOb9b4-G_y9aUNW",
      "authorship_tag": "ABX9TyNJ9kGGwFSv6Pi16ir0CCSX",
      "include_colab_link": true
    },
    "kernelspec": {
      "name": "python3",
      "display_name": "Python 3"
    },
    "language_info": {
      "name": "python"
    }
  },
  "cells": [
    {
      "cell_type": "markdown",
      "metadata": {
        "id": "view-in-github",
        "colab_type": "text"
      },
      "source": [
        "<a href=\"https://colab.research.google.com/github/chw8207/python-seminar/blob/main/1%EC%9B%94_13%EC%9D%BC.ipynb\" target=\"_parent\"><img src=\"https://colab.research.google.com/assets/colab-badge.svg\" alt=\"Open In Colab\"/></a>"
      ]
    },
    {
      "cell_type": "markdown",
      "source": [
        "### 함수"
      ],
      "metadata": {
        "id": "XmZviI8LijFA"
      }
    },
    {
      "cell_type": "code",
      "execution_count": null,
      "metadata": {
        "id": "5q__3UPggfGw"
      },
      "outputs": [],
      "source": [
        "# 매개변수에 기본값 지정하기"
      ]
    },
    {
      "cell_type": "code",
      "source": [
        "# 위치 인자 취합하기 : 튜플\n",
        "def sumsq(*args) :\n",
        "  result = 0\n",
        "  for i in args : \n",
        "    result += i\n",
        "  return result"
      ],
      "metadata": {
        "id": "IPRlbl8ikaxK"
      },
      "execution_count": 1,
      "outputs": []
    },
    {
      "cell_type": "code",
      "source": [
        "# 키워드 인자 취합하기 : 딕셔너리\n",
        "def print_kwargs(**kwargs) : \n",
        "  print('Keyword arguments')"
      ],
      "metadata": {
        "id": "sHDIu1eCkvbE"
      },
      "execution_count": null,
      "outputs": []
    }
  ]
}