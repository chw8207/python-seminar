{
  "nbformat": 4,
  "nbformat_minor": 0,
  "metadata": {
    "colab": {
      "provenance": [],
      "mount_file_id": "1TSFKHIUzgTxM4byMouOb9b4-G_y9aUNW",
      "authorship_tag": "ABX9TyO5n0rXMYNDsLY0nrLEklWn",
      "include_colab_link": true
    },
    "kernelspec": {
      "name": "python3",
      "display_name": "Python 3"
    },
    "language_info": {
      "name": "python"
    }
  },
  "cells": [
    {
      "cell_type": "markdown",
      "metadata": {
        "id": "view-in-github",
        "colab_type": "text"
      },
      "source": [
        "<a href=\"https://colab.research.google.com/github/chw8207/python-seminar/blob/main/1%EC%9B%94_13%EC%9D%BC.ipynb\" target=\"_parent\"><img src=\"https://colab.research.google.com/assets/colab-badge.svg\" alt=\"Open In Colab\"/></a>"
      ]
    },
    {
      "cell_type": "markdown",
      "source": [
        "### 함수"
      ],
      "metadata": {
        "id": "XmZviI8LijFA"
      }
    },
    {
      "cell_type": "code",
      "execution_count": null,
      "metadata": {
        "id": "5q__3UPggfGw"
      },
      "outputs": [],
      "source": [
        "# 매개변수에 기본값 지정하기"
      ]
    },
    {
      "cell_type": "code",
      "source": [
        "# 위치 인자 취합하기 : 튜플\n",
        "def sumsq(*args) :\n",
        "  result = 0\n",
        "  for i in args : \n",
        "    result += i\n",
        "  return result"
      ],
      "metadata": {
        "id": "IPRlbl8ikaxK"
      },
      "execution_count": 1,
      "outputs": []
    },
    {
      "cell_type": "code",
      "source": [
        "# 키워드 인자 취합하기 : 딕셔너리\n",
        "def print_kwargs(**kwargs) : \n",
        "  print('Keyword arguments')"
      ],
      "metadata": {
        "id": "sHDIu1eCkvbE"
      },
      "execution_count": null,
      "outputs": []
    },
    {
      "cell_type": "code",
      "source": [
        "# 월을 입력하면 계절 나오는 함수\n",
        "month = int(input('월을 입력하시오'))\n",
        "def season(month) : \n",
        "  if month in [3, 4, 5] : \n",
        "    print('spring')\n",
        "  elif month in [6, 7, 8] : \n",
        "    print('summer')\n",
        "  elif month in [9, 10, 11] :\n",
        "    print('fall')\n",
        "  elif month in [12, 1, 2]: \n",
        "    print('winter')\n",
        "season(month)"
      ],
      "metadata": {
        "colab": {
          "base_uri": "https://localhost:8080/"
        },
        "id": "TrXlkNf_m5J9",
        "outputId": "2ea09d51-b182-41b9-c3b0-7ea01fb24a34"
      },
      "execution_count": 20,
      "outputs": [
        {
          "output_type": "stream",
          "name": "stdout",
          "text": [
            "월을 입력하시오5\n",
            "spring\n"
          ]
        }
      ]
    },
    {
      "cell_type": "code",
      "source": [
        "# 사용자가 입력한 접수에 따라 학점을 부여하는 함수 작성하기\n",
        "def grade(score) :\n",
        "  if score>=90 : \n",
        "    print('A')\n",
        "  elif score>=80 : \n",
        "    print('B')\n",
        "  elif score>=70 : \n",
        "    print('C')\n",
        "  elif score>=60 : \n",
        "    print('D')\n",
        "  else : \n",
        "    print('F')\n",
        "\n",
        "grade(70)"
      ],
      "metadata": {
        "colab": {
          "base_uri": "https://localhost:8080/"
        },
        "id": "jHa2Hb-em3Nd",
        "outputId": "21485af7-a25a-4790-defb-306781793f1f"
      },
      "execution_count": 13,
      "outputs": [
        {
          "output_type": "stream",
          "name": "stdout",
          "text": [
            "C\n"
          ]
        }
      ]
    }
  ]
}