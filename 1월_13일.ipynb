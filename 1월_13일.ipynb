{
  "nbformat": 4,
  "nbformat_minor": 0,
  "metadata": {
    "colab": {
      "provenance": [],
      "mount_file_id": "1TSFKHIUzgTxM4byMouOb9b4-G_y9aUNW",
      "authorship_tag": "ABX9TyMIJ8X1J4hF8B390aAdLKiB",
      "include_colab_link": true
    },
    "kernelspec": {
      "name": "python3",
      "display_name": "Python 3"
    },
    "language_info": {
      "name": "python"
    }
  },
  "cells": [
    {
      "cell_type": "markdown",
      "metadata": {
        "id": "view-in-github",
        "colab_type": "text"
      },
      "source": [
        "<a href=\"https://colab.research.google.com/github/chw8207/python-seminar/blob/main/1%EC%9B%94_13%EC%9D%BC.ipynb\" target=\"_parent\"><img src=\"https://colab.research.google.com/assets/colab-badge.svg\" alt=\"Open In Colab\"/></a>"
      ]
    },
    {
      "cell_type": "markdown",
      "source": [
        "### 함수"
      ],
      "metadata": {
        "id": "XmZviI8LijFA"
      }
    },
    {
      "cell_type": "code",
      "execution_count": null,
      "metadata": {
        "id": "5q__3UPggfGw"
      },
      "outputs": [],
      "source": [
        "# 매개변수에 기본값 지정하기"
      ]
    },
    {
      "cell_type": "code",
      "source": [
        "# 위치 인자 취합하기 : 튜플\n",
        "def sumsq(*args) :\n",
        "  result = 0\n",
        "  for i in args : \n",
        "    result += i\n",
        "  return result"
      ],
      "metadata": {
        "id": "IPRlbl8ikaxK"
      },
      "execution_count": 1,
      "outputs": []
    },
    {
      "cell_type": "code",
      "source": [
        "# 키워드 인자 취합하기 : 딕셔너리\n",
        "def print_kwargs(**kwargs) : \n",
        "  print('Keyword arguments')"
      ],
      "metadata": {
        "id": "sHDIu1eCkvbE"
      },
      "execution_count": null,
      "outputs": []
    },
    {
      "cell_type": "markdown",
      "source": [
        "### 조건문"
      ],
      "metadata": {
        "id": "hoRzeKiQq1fw"
      }
    },
    {
      "cell_type": "code",
      "source": [
        "# 월을 입력하면 계절 나오는 함수\n",
        "month = int(input('월을 입력하시오'))\n",
        "def season(month) : \n",
        "  if month in [3, 4, 5] : \n",
        "    print('spring')\n",
        "  elif month in [6, 7, 8] : \n",
        "    print('summer')\n",
        "  elif month in [9, 10, 11] :\n",
        "    print('fall')\n",
        "  elif month in [12, 1, 2]: \n",
        "    print('winter')\n",
        "season(month)"
      ],
      "metadata": {
        "colab": {
          "base_uri": "https://localhost:8080/"
        },
        "id": "TrXlkNf_m5J9",
        "outputId": "2ea09d51-b182-41b9-c3b0-7ea01fb24a34"
      },
      "execution_count": 20,
      "outputs": [
        {
          "output_type": "stream",
          "name": "stdout",
          "text": [
            "월을 입력하시오5\n",
            "spring\n"
          ]
        }
      ]
    },
    {
      "cell_type": "code",
      "source": [
        "# 사용자가 입력한 접수에 따라 학점을 부여하는 함수 작성하기\n",
        "def grade(score) :\n",
        "  if score>=90 : \n",
        "    print('A')\n",
        "  elif score>=80 : \n",
        "    print('B')\n",
        "  elif score>=70 : \n",
        "    print('C')\n",
        "  elif score>=60 : \n",
        "    print('D')\n",
        "  else : \n",
        "    print('F')\n",
        "\n",
        "grade(70)"
      ],
      "metadata": {
        "colab": {
          "base_uri": "https://localhost:8080/"
        },
        "id": "jHa2Hb-em3Nd",
        "outputId": "21485af7-a25a-4790-defb-306781793f1f"
      },
      "execution_count": 13,
      "outputs": [
        {
          "output_type": "stream",
          "name": "stdout",
          "text": [
            "C\n"
          ]
        }
      ]
    },
    {
      "cell_type": "markdown",
      "source": [
        "### 반복문"
      ],
      "metadata": {
        "id": "ykFQcIUztQx0"
      }
    },
    {
      "cell_type": "code",
      "source": [
        "# zip() : 여러 갑을 병렬로 순회하면서 출력할 수 있음.\n",
        "# enumerate() : 자료형을 입력받아 인덱스 값을 포함하는 값을 출력함"
      ],
      "metadata": {
        "id": "vdsYzzlftSON"
      },
      "execution_count": null,
      "outputs": []
    },
    {
      "cell_type": "code",
      "source": [
        "i = 2\n",
        "type(i)"
      ],
      "metadata": {
        "colab": {
          "base_uri": "https://localhost:8080/"
        },
        "id": "7qIpGlcl0bkw",
        "outputId": "d7392425-940a-40fc-adb2-a69cf37d1e8f"
      },
      "execution_count": 44,
      "outputs": [
        {
          "output_type": "execute_result",
          "data": {
            "text/plain": [
              "int"
            ]
          },
          "metadata": {},
          "execution_count": 44
        }
      ]
    },
    {
      "cell_type": "code",
      "source": [
        "# 반복문과 조건문을 사용해 주어진 벡터 내에 있는 홀수는 모두 더하고,\n",
        "# 짝수는 모두 빼는 함수 foo()를 작성해보자\n",
        "# answer = list(input().split(','))\n",
        "answer = [3.5, 2.5]\n",
        "\n",
        "def foo(answer) : \n",
        "  result = 0\n",
        "  for i in answer : \n",
        "    if type(i) == int : \n",
        "      #\n",
        "      if i%2 == 0 : \n",
        "        result -= i\n",
        "      elif i%2 !=0 :\n",
        "        result += i\n",
        "    else : \n",
        "      result = 'warning'\n",
        "  print(result)\n",
        "\n",
        "foo(answer)"
      ],
      "metadata": {
        "colab": {
          "base_uri": "https://localhost:8080/"
        },
        "id": "13orHTSsvGCS",
        "outputId": "4015bd31-54d6-42e8-d6de-dda903168eaf"
      },
      "execution_count": 45,
      "outputs": [
        {
          "output_type": "stream",
          "name": "stdout",
          "text": [
            "warning\n"
          ]
        }
      ]
    },
    {
      "cell_type": "code",
      "source": [
        "# 풀이\n",
        "def foo(list_A) : \n",
        "  result = 0\n",
        "  for i in list_A : \n",
        "    if type(i) == int :\n",
        "      if i%2 == 0 : \n",
        "        result -= i \n",
        "      else : \n",
        "        result += i\n",
        "    else : \n",
        "      print('NA')\n",
        "  print(result)\n",
        "\n",
        "foo([1, 3, 5, 4])     "
      ],
      "metadata": {
        "colab": {
          "base_uri": "https://localhost:8080/"
        },
        "id": "RoQfLMS900FI",
        "outputId": "7314b9c0-c627-4af5-c66a-612e34cf85a6"
      },
      "execution_count": 51,
      "outputs": [
        {
          "output_type": "stream",
          "name": "stdout",
          "text": [
            "5\n"
          ]
        }
      ]
    }
  ]
}