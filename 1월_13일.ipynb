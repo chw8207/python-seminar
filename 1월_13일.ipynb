{
  "nbformat": 4,
  "nbformat_minor": 0,
  "metadata": {
    "colab": {
      "provenance": [],
      "mount_file_id": "1TSFKHIUzgTxM4byMouOb9b4-G_y9aUNW",
      "authorship_tag": "ABX9TyM8VPWECf6RuSEfmXQJiv95",
      "include_colab_link": true
    },
    "kernelspec": {
      "name": "python3",
      "display_name": "Python 3"
    },
    "language_info": {
      "name": "python"
    }
  },
  "cells": [
    {
      "cell_type": "markdown",
      "metadata": {
        "id": "view-in-github",
        "colab_type": "text"
      },
      "source": [
        "<a href=\"https://colab.research.google.com/github/chw8207/python-seminar/blob/main/1%EC%9B%94_13%EC%9D%BC.ipynb\" target=\"_parent\"><img src=\"https://colab.research.google.com/assets/colab-badge.svg\" alt=\"Open In Colab\"/></a>"
      ]
    },
    {
      "cell_type": "markdown",
      "source": [
        "### 함수"
      ],
      "metadata": {
        "id": "XmZviI8LijFA"
      }
    },
    {
      "cell_type": "code",
      "execution_count": null,
      "metadata": {
        "id": "5q__3UPggfGw"
      },
      "outputs": [],
      "source": [
        "# 매개변수에 기본값 지정하기"
      ]
    },
    {
      "cell_type": "code",
      "source": [
        "# 위치 인자 취합하기 : 튜플\n",
        "def sumsq(*args) :\n",
        "  result = 0\n",
        "  for i in args : \n",
        "    result += i\n",
        "  return result"
      ],
      "metadata": {
        "id": "IPRlbl8ikaxK"
      },
      "execution_count": 1,
      "outputs": []
    },
    {
      "cell_type": "code",
      "source": [
        "# 키워드 인자 취합하기 : 딕셔너리\n",
        "def print_kwargs(**kwargs) : \n",
        "  print('Keyword arguments')"
      ],
      "metadata": {
        "id": "sHDIu1eCkvbE"
      },
      "execution_count": null,
      "outputs": []
    },
    {
      "cell_type": "code",
      "source": [
        "# 월을 입력하면 계절 나오는 함수\n",
        "def season(month) : \n",
        "  if month>=3 & month<=5 : \n",
        "    print('꽃이 피는 봄이에요')\n",
        "  elif month>=6 & month<=8 : \n",
        "    print('휴가가 있는 여름이에요')\n",
        "  elif month>=9 & month<=11 : \n",
        "    print('단풍이 물드는 가을이에요')\n",
        "  else : \n",
        "    print('스키타기 좋은 겨울이에요')"
      ],
      "metadata": {
        "id": "TrXlkNf_m5J9"
      },
      "execution_count": 3,
      "outputs": []
    },
    {
      "cell_type": "code",
      "source": [
        "# 사용자가 입력한 접수에 따라 학점을 부여하는 함수 작성하기\n",
        "def grade(score) :\n",
        "  if score>=90 : \n",
        "    print('A')\n",
        "  elif score>=80 : \n",
        "    print('B')\n",
        "  elif score>=70 : \n",
        "    print('C')\n",
        "  elif score>=60 : \n",
        "    print('D')\n",
        "  else : \n",
        "    print('F')"
      ],
      "metadata": {
        "id": "jHa2Hb-em3Nd"
      },
      "execution_count": 2,
      "outputs": []
    }
  ]
}