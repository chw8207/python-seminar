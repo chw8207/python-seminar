{
  "nbformat": 4,
  "nbformat_minor": 0,
  "metadata": {
    "colab": {
      "provenance": [],
      "mount_file_id": "1fErl5mtXvBrrFTqVQwbrH7hQXzScXfqh",
      "authorship_tag": "ABX9TyOttS5VTgwt2Ekc7wrnXNYu",
      "include_colab_link": true
    },
    "kernelspec": {
      "name": "python3",
      "display_name": "Python 3"
    },
    "language_info": {
      "name": "python"
    }
  },
  "cells": [
    {
      "cell_type": "markdown",
      "metadata": {
        "id": "view-in-github",
        "colab_type": "text"
      },
      "source": [
        "<a href=\"https://colab.research.google.com/github/chw8207/python-seminar/blob/main/2%EC%9B%943%EC%9D%BC_HW.ipynb\" target=\"_parent\"><img src=\"https://colab.research.google.com/assets/colab-badge.svg\" alt=\"Open In Colab\"/></a>"
      ]
    },
    {
      "cell_type": "code",
      "execution_count": null,
      "metadata": {
        "id": "mI2qCcM7ZQoh"
      },
      "outputs": [],
      "source": [
        "# 정수 -50~50 범위의 난수로 이뤄진 (4, 5)형태의 numpy.array를 출력하고 \n",
        "# 행을 기준으로 오름차순 정렬한 결과와 1차원 배열로 변경하여 \n",
        "# 오름차순 정렬한 결과를 출력하시오."
      ]
    },
    {
      "cell_type": "code",
      "source": [
        "# 라이브러리 임포트\n",
        "import numpy as np\n",
        "\n",
        "# seed값 설정\n",
        "np.random.seed(1)\n",
        "\n",
        "# 난수로 이뤄진 (4,5)형태의 배열 출력\n",
        "arr = np.random.randint(-50,50, size=(4,5))\n",
        "print(arr)"
      ],
      "metadata": {
        "colab": {
          "base_uri": "https://localhost:8080/"
        },
        "id": "Jsa93qxTaGPa",
        "outputId": "abaff3eb-f66f-4ee1-faa4-3e0b58219b74"
      },
      "execution_count": 2,
      "outputs": [
        {
          "output_type": "stream",
          "name": "stdout",
          "text": [
            "[[-13 -38  22 -41  25]\n",
            " [-45  29  14 -34 -49]\n",
            " [ 26  21 -44 -25   0]\n",
            " [-30 -32  34 -39 -22]]\n"
          ]
        }
      ]
    },
    {
      "cell_type": "code",
      "source": [
        "# 행을 기준으로 오름차순 정렬\n"
      ],
      "metadata": {
        "id": "tRzXNBnrbf76"
      },
      "execution_count": null,
      "outputs": []
    }
  ]
}