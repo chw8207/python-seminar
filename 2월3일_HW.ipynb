{
  "nbformat": 4,
  "nbformat_minor": 0,
  "metadata": {
    "colab": {
      "provenance": [],
      "mount_file_id": "1fErl5mtXvBrrFTqVQwbrH7hQXzScXfqh",
      "authorship_tag": "ABX9TyOBsEMyoI9yTSPnMJh6sA3G",
      "include_colab_link": true
    },
    "kernelspec": {
      "name": "python3",
      "display_name": "Python 3"
    },
    "language_info": {
      "name": "python"
    }
  },
  "cells": [
    {
      "cell_type": "markdown",
      "metadata": {
        "id": "view-in-github",
        "colab_type": "text"
      },
      "source": [
        "<a href=\"https://colab.research.google.com/github/chw8207/python-seminar/blob/main/2%EC%9B%943%EC%9D%BC_HW.ipynb\" target=\"_parent\"><img src=\"https://colab.research.google.com/assets/colab-badge.svg\" alt=\"Open In Colab\"/></a>"
      ]
    },
    {
      "cell_type": "code",
      "source": [
        "from google.colab import drive\n",
        "drive.mount('/content/drive')"
      ],
      "metadata": {
        "colab": {
          "base_uri": "https://localhost:8080/"
        },
        "id": "1fAei0DiHzRG",
        "outputId": "fd956294-fac9-447d-d23c-ca11218b72ef"
      },
      "execution_count": 1,
      "outputs": [
        {
          "output_type": "stream",
          "name": "stdout",
          "text": [
            "Drive already mounted at /content/drive; to attempt to forcibly remount, call drive.mount(\"/content/drive\", force_remount=True).\n"
          ]
        }
      ]
    },
    {
      "cell_type": "code",
      "execution_count": null,
      "metadata": {
        "id": "mI2qCcM7ZQoh"
      },
      "outputs": [],
      "source": [
        "# 정수 -50~50 범위의 난수로 이뤄진 (4, 5)형태의 numpy.array를 출력하고 \n",
        "# 행을 기준으로 오름차순 정렬한 결과와 1차원 배열로 변경하여 \n",
        "# 오름차순 정렬한 결과를 출력하시오."
      ]
    },
    {
      "cell_type": "code",
      "source": [
        "# 라이브러리 임포트\n",
        "import numpy as np\n",
        "\n",
        "# seed값 설정\n",
        "np.random.seed(1)\n",
        "\n",
        "# 난수로 이뤄진 (4,5)형태의 배열 출력\n",
        "arr = np.random.randint(-50,50, size=(4,5))\n",
        "print(arr)"
      ],
      "metadata": {
        "colab": {
          "base_uri": "https://localhost:8080/"
        },
        "id": "Jsa93qxTaGPa",
        "outputId": "512e9553-0cf9-454a-a291-671c7a10a5ea"
      },
      "execution_count": null,
      "outputs": [
        {
          "output_type": "stream",
          "name": "stdout",
          "text": [
            "[[-13 -38  22 -41  25]\n",
            " [-45  29  14 -34 -49]\n",
            " [ 26  21 -44 -25   0]\n",
            " [-30 -32  34 -39 -22]]\n"
          ]
        }
      ]
    },
    {
      "cell_type": "code",
      "source": [
        "# 행을 기준으로 오름차순 정렬\n",
        "np.random.seed(1)\n",
        "print(np.sort(arr, axis=0))"
      ],
      "metadata": {
        "colab": {
          "base_uri": "https://localhost:8080/"
        },
        "id": "tRzXNBnrbf76",
        "outputId": "0c0c11ff-32ed-4513-8348-ad7f3a3a4ade"
      },
      "execution_count": null,
      "outputs": [
        {
          "output_type": "stream",
          "name": "stdout",
          "text": [
            "[[-45 -38 -44 -41 -49]\n",
            " [-30 -32  14 -39 -22]\n",
            " [-13  21  22 -34   0]\n",
            " [ 26  29  34 -25  25]]\n"
          ]
        }
      ]
    },
    {
      "cell_type": "code",
      "source": [
        "# 1차원 배열로 변경하여 오름차순 정렬\n",
        "np.random.seed(1)\n",
        "arr2 = np.ravel(arr)\n",
        "print(np.sort(arr2))"
      ],
      "metadata": {
        "colab": {
          "base_uri": "https://localhost:8080/"
        },
        "id": "X4AjVX9TeLNO",
        "outputId": "70253c08-56a5-447d-f7e5-276d911685b7"
      },
      "execution_count": null,
      "outputs": [
        {
          "output_type": "stream",
          "name": "stdout",
          "text": [
            "[-49 -45 -44 -41 -39 -38 -34 -32 -30 -25 -22 -13   0  14  21  22  25  26\n",
            "  29  34]\n"
          ]
        }
      ]
    },
    {
      "cell_type": "code",
      "source": [
        "# 다음 두 행렬에 대하여 내적 연산을 수행한 결과값을 출력하시오.\n",
        "# (단, 소수점 아래는 제거한다.)\n",
        "import numpy as np\n",
        "\n",
        "a = [[2.1,3.5], [4.2,2.7], [2.3, 1.9]]\n",
        "b = [[5,2,3], [1,3,5]]\n",
        "print(np.trunc(np.dot(a,b)))"
      ],
      "metadata": {
        "id": "x9Vj9d9wmsj1",
        "colab": {
          "base_uri": "https://localhost:8080/"
        },
        "outputId": "6fa854c7-fcb4-4825-832b-0ffde79eaf68"
      },
      "execution_count": null,
      "outputs": [
        {
          "output_type": "stream",
          "name": "stdout",
          "text": [
            "[[14. 14. 23.]\n",
            " [23. 16. 26.]\n",
            " [13. 10. 16.]]\n"
          ]
        }
      ]
    },
    {
      "cell_type": "code",
      "source": [
        "# 1. 원소가 모두 3인 (3, 4, 5)형태의 numpy.array를 출력\n",
        "print(np.full([3,4,5],3))"
      ],
      "metadata": {
        "colab": {
          "base_uri": "https://localhost:8080/"
        },
        "id": "H6y4nlIIWpcK",
        "outputId": "b2c07b05-7d15-4c56-80cf-aa5c9de5541b"
      },
      "execution_count": null,
      "outputs": [
        {
          "output_type": "stream",
          "name": "stdout",
          "text": [
            "[[[3 3 3 3 3]\n",
            "  [3 3 3 3 3]\n",
            "  [3 3 3 3 3]\n",
            "  [3 3 3 3 3]]\n",
            "\n",
            " [[3 3 3 3 3]\n",
            "  [3 3 3 3 3]\n",
            "  [3 3 3 3 3]\n",
            "  [3 3 3 3 3]]\n",
            "\n",
            " [[3 3 3 3 3]\n",
            "  [3 3 3 3 3]\n",
            "  [3 3 3 3 3]\n",
            "  [3 3 3 3 3]]]\n"
          ]
        }
      ]
    },
    {
      "cell_type": "code",
      "source": [
        "# 6. 다음 패턴 출력하기\n",
        "# 0 1 0 1\n",
        "# 1 0 1 0\n",
        "# 0 1 0 1\n",
        "# 1 0 1 0"
      ],
      "metadata": {
        "id": "L2WCXrH5suor"
      },
      "execution_count": null,
      "outputs": []
    },
    {
      "cell_type": "code",
      "source": [
        "import numpy as np\n",
        "arr = [[0 if i%2==0 and j%2==0 else 1 for j in range(4)] for i in range(4)]\n",
        "\n",
        "print(np.array(arr))"
      ],
      "metadata": {
        "colab": {
          "base_uri": "https://localhost:8080/"
        },
        "id": "is2dUOeAs45v",
        "outputId": "aeefb6a3-5858-45a0-a511-cc938c3d4d57"
      },
      "execution_count": 2,
      "outputs": [
        {
          "output_type": "stream",
          "name": "stdout",
          "text": [
            "[[0 1 0 1]\n",
            " [1 1 1 1]\n",
            " [0 1 0 1]\n",
            " [1 1 1 1]]\n"
          ]
        }
      ]
    },
    {
      "cell_type": "code",
      "source": [
        "# 4. 주어진 배열을 행을 기준으로 3개로 분할하여 분할된 각 배열의 원소들을\n",
        "# 제곱한 결과를 다시 원본 배열에 행을 기준으로 병합하시오.\n",
        "# (단, 출력 결과는 원본 배열의 차원과 같아야함.)\n",
        "import numpy as np\n",
        "\n",
        "arr = np.arange(2,20,2).reshape((3,3))\n",
        "print(arr)\n",
        "print(arr.ndim)"
      ],
      "metadata": {
        "colab": {
          "base_uri": "https://localhost:8080/"
        },
        "id": "SXOJon2GKeb8",
        "outputId": "07b68836-56af-42a8-edb4-15b81741b531"
      },
      "execution_count": 13,
      "outputs": [
        {
          "output_type": "stream",
          "name": "stdout",
          "text": [
            "[[ 2  4  6]\n",
            " [ 8 10 12]\n",
            " [14 16 18]]\n",
            "2\n"
          ]
        }
      ]
    },
    {
      "cell_type": "code",
      "source": [
        "# 행 기준으로 3개 분할\n",
        "arr_vsplit = np.vsplit(arr,3)\n",
        "print(arr_vsplit)"
      ],
      "metadata": {
        "colab": {
          "base_uri": "https://localhost:8080/"
        },
        "id": "IiMXtbjqL3aK",
        "outputId": "535fdc62-cc0d-42fe-908d-1d48f9d45aab"
      },
      "execution_count": 10,
      "outputs": [
        {
          "output_type": "stream",
          "name": "stdout",
          "text": [
            "[array([[2, 4, 6]]), array([[ 8, 10, 12]]), array([[14, 16, 18]])]\n"
          ]
        }
      ]
    },
    {
      "cell_type": "code",
      "source": [
        "# 각 배열의 원소들을 제곱하기\n",
        "arr_square = np.square(arr_vsplit)\n",
        "print(arr_square)\n",
        "print(arr.ndim)"
      ],
      "metadata": {
        "colab": {
          "base_uri": "https://localhost:8080/"
        },
        "id": "Ij8YVzf9Lit0",
        "outputId": "0970f912-f7d6-4c46-dfd9-33ac4032c919"
      },
      "execution_count": 14,
      "outputs": [
        {
          "output_type": "stream",
          "name": "stdout",
          "text": [
            "[[[  4  16  36]]\n",
            "\n",
            " [[ 64 100 144]]\n",
            "\n",
            " [[196 256 324]]]\n",
            "2\n"
          ]
        }
      ]
    },
    {
      "cell_type": "code",
      "source": [
        "# 5. 삼각함수의 특수각(0, 30, 60, 90)을 numpy.array로 생성한 후 \n",
        "# 이에 해당하는 sin, cos, tan값을 구하여 수한 값을 list에 담아 출력하시오.\n",
        "# (단, 값이 무한대이면 \"INF\"를 출력하며, numpy에서 삼각함수는 radian 값을 사용함\n",
        "# (radian= degree*pi/180))\n",
        "import numpy as np\n",
        "\n",
        "arr = np.array([0,30,60,90])\n",
        "tf1 = []\n",
        "tf2 = []\n",
        "tf3 = []\n",
        "\n",
        "for i in range(len(arr)) : \n",
        "  radian = arr[i]*np.pi/180\n",
        "  tf1.append(np.sin(radian))\n",
        "  tf2.append(np.cos(radian))\n",
        "  tf3.append(np.tan(radian))\n",
        "print('sin값', tf1)\n",
        "print('cos값', tf2)\n",
        "print('tan값', tf3)"
      ],
      "metadata": {
        "colab": {
          "base_uri": "https://localhost:8080/"
        },
        "id": "Vnurym18MkQ6",
        "outputId": "b812cc52-79c8-47b0-a287-28c808eb7dd7"
      },
      "execution_count": 37,
      "outputs": [
        {
          "output_type": "stream",
          "name": "stdout",
          "text": [
            "sin값 [0.0, 0.49999999999999994, 0.8660254037844386, 1.0]\n",
            "cos값 [1.0, 0.8660254037844387, 0.5000000000000001, 6.123233995736766e-17]\n",
            "tan값 [0.0, 0.5773502691896257, 1.7320508075688767, 1.633123935319537e+16]\n"
          ]
        }
      ]
    }
  ]
}