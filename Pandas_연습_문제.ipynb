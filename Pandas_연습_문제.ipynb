{
  "cells": [
    {
      "cell_type": "markdown",
      "metadata": {
        "id": "view-in-github",
        "colab_type": "text"
      },
      "source": [
        "<a href=\"https://colab.research.google.com/github/chw8207/python-seminar/blob/main/Pandas_%EC%97%B0%EC%8A%B5_%EB%AC%B8%EC%A0%9C.ipynb\" target=\"_parent\"><img src=\"https://colab.research.google.com/assets/colab-badge.svg\" alt=\"Open In Colab\"/></a>"
      ]
    },
    {
      "cell_type": "code",
      "source": [
        "from google.colab import drive\n",
        "drive.mount('/content/drive')"
      ],
      "metadata": {
        "colab": {
          "base_uri": "https://localhost:8080/"
        },
        "id": "emShW6UEsWlm",
        "outputId": "b7a07c49-40fe-4351-9775-0e86b562c8ce"
      },
      "id": "emShW6UEsWlm",
      "execution_count": null,
      "outputs": [
        {
          "output_type": "stream",
          "name": "stdout",
          "text": [
            "Drive already mounted at /content/drive; to attempt to forcibly remount, call drive.mount(\"/content/drive\", force_remount=True).\n"
          ]
        }
      ]
    },
    {
      "cell_type": "code",
      "execution_count": null,
      "id": "b6349a44",
      "metadata": {
        "id": "b6349a44"
      },
      "outputs": [],
      "source": [
        "import pandas as pd"
      ]
    },
    {
      "cell_type": "code",
      "execution_count": null,
      "id": "355c77c7",
      "metadata": {
        "id": "355c77c7",
        "colab": {
          "base_uri": "https://localhost:8080/",
          "height": 403
        },
        "outputId": "037d7129-b7a8-4979-b7a9-1d71efa4e65f"
      },
      "outputs": [
        {
          "output_type": "execute_result",
          "data": {
            "text/plain": [
              "   일자(stdr_de_id)  시간(tmzon_pd_se)  행정동코드(adstrd_code_se)   집계구코드(oa_cd)  \\\n",
              "0        20170226                4               11320515  1125061020007   \n",
              "1        20180107               22               11380510  1115071010309   \n",
              "2        20180317                6               11680610  1113073020101   \n",
              "3        20190222                7               11305575  1106071020403   \n",
              "4        20210706                6               11740660  1107073040015   \n",
              "\n",
              "   생활인구합계(tot_lvpop_co)  남자0~9세(male_f0t9_lvpop_co)  \\\n",
              "0                4.3097                     11.9781   \n",
              "1              338.3900                     23.2446   \n",
              "2             1805.5256                      4.3720   \n",
              "3              504.4956                     14.0599   \n",
              "4              744.6219                      0.5662   \n",
              "\n",
              "   남자10~14세(male_f10t14_lvpop_co)  남자15~19세(male_f15t19_lvpop_co)  \\\n",
              "0                          8.2257                          1.8759   \n",
              "1                          3.1141                          1.9972   \n",
              "2                        324.3596                         10.8350   \n",
              "3                         14.3256                          3.5239   \n",
              "4                          2.9824                          2.9719   \n",
              "\n",
              "   남자20~24세(male_f20t24_lvpop_co)  남자25~29세(male_f25t29_lvpop_co)  ...  \\\n",
              "0                          4.2075                          6.2647  ...   \n",
              "1                          2.6983                          0.1240  ...   \n",
              "2                         12.1324                         20.4938  ...   \n",
              "3                         19.3154                          6.8197  ...   \n",
              "4                         31.0868                          7.2338  ...   \n",
              "\n",
              "   여자40~44세(female_f40t44_lvpop_co)  여자45~49세(female_f45t49_lvpop_co)  \\\n",
              "0                            9.0816                           52.6711   \n",
              "1                           10.0707                            9.9150   \n",
              "2                           28.8794                           19.4895   \n",
              "3                            0.2650                           36.5731   \n",
              "4                           39.7471                            1.5230   \n",
              "\n",
              "   여자50~54세(female_f50t54_lvpop_co)  여자55~59세(female_f55t59_lvpop_co)  \\\n",
              "0                           24.9152                            3.6202   \n",
              "1                           14.6710                           29.2192   \n",
              "2                            1.6087                           16.2525   \n",
              "3                           14.3217                           35.7359   \n",
              "4                           47.5514                           63.4768   \n",
              "\n",
              "   여자60~64세(female_f60t64_lvpop_co)  여자65~69세(female_f65t69_lvpop_co)  \\\n",
              "0                           91.3448                           13.6818   \n",
              "1                            0.1533                           36.7707   \n",
              "2                            8.1640                           34.3989   \n",
              "3                            7.2808                            6.9919   \n",
              "4                           52.3638                           35.3496   \n",
              "\n",
              "   여자70~74세(female_f70t74_lvpop_co)  여자75~79세(female_f75t79_lvpop_co)  \\\n",
              "0                           45.2880                            2.3141   \n",
              "1                            0.9227                            4.6111   \n",
              "2                            3.4030                            3.8434   \n",
              "3                           27.4321                            1.8361   \n",
              "4                           32.1275                           85.6665   \n",
              "\n",
              "   여자80세이상(female_above_80_lvpop_co)      등록일자(ldadng_dt)  \n",
              "0                             9.7668  2021-08-17 16:06:44  \n",
              "1                            18.1781  2021-08-17 16:06:44  \n",
              "2                             4.4772  2021-08-17 16:06:44  \n",
              "3                             7.7510  2021-08-17 16:06:44  \n",
              "4                            95.0249  2021-08-17 16:06:44  \n",
              "\n",
              "[5 rows x 38 columns]"
            ],
            "text/html": [
              "\n",
              "  <div id=\"df-19b3b7bf-b0c5-4ba8-9d62-e0c191aeee32\">\n",
              "    <div class=\"colab-df-container\">\n",
              "      <div>\n",
              "<style scoped>\n",
              "    .dataframe tbody tr th:only-of-type {\n",
              "        vertical-align: middle;\n",
              "    }\n",
              "\n",
              "    .dataframe tbody tr th {\n",
              "        vertical-align: top;\n",
              "    }\n",
              "\n",
              "    .dataframe thead th {\n",
              "        text-align: right;\n",
              "    }\n",
              "</style>\n",
              "<table border=\"1\" class=\"dataframe\">\n",
              "  <thead>\n",
              "    <tr style=\"text-align: right;\">\n",
              "      <th></th>\n",
              "      <th>일자(stdr_de_id)</th>\n",
              "      <th>시간(tmzon_pd_se)</th>\n",
              "      <th>행정동코드(adstrd_code_se)</th>\n",
              "      <th>집계구코드(oa_cd)</th>\n",
              "      <th>생활인구합계(tot_lvpop_co)</th>\n",
              "      <th>남자0~9세(male_f0t9_lvpop_co)</th>\n",
              "      <th>남자10~14세(male_f10t14_lvpop_co)</th>\n",
              "      <th>남자15~19세(male_f15t19_lvpop_co)</th>\n",
              "      <th>남자20~24세(male_f20t24_lvpop_co)</th>\n",
              "      <th>남자25~29세(male_f25t29_lvpop_co)</th>\n",
              "      <th>...</th>\n",
              "      <th>여자40~44세(female_f40t44_lvpop_co)</th>\n",
              "      <th>여자45~49세(female_f45t49_lvpop_co)</th>\n",
              "      <th>여자50~54세(female_f50t54_lvpop_co)</th>\n",
              "      <th>여자55~59세(female_f55t59_lvpop_co)</th>\n",
              "      <th>여자60~64세(female_f60t64_lvpop_co)</th>\n",
              "      <th>여자65~69세(female_f65t69_lvpop_co)</th>\n",
              "      <th>여자70~74세(female_f70t74_lvpop_co)</th>\n",
              "      <th>여자75~79세(female_f75t79_lvpop_co)</th>\n",
              "      <th>여자80세이상(female_above_80_lvpop_co)</th>\n",
              "      <th>등록일자(ldadng_dt)</th>\n",
              "    </tr>\n",
              "  </thead>\n",
              "  <tbody>\n",
              "    <tr>\n",
              "      <th>0</th>\n",
              "      <td>20170226</td>\n",
              "      <td>4</td>\n",
              "      <td>11320515</td>\n",
              "      <td>1125061020007</td>\n",
              "      <td>4.3097</td>\n",
              "      <td>11.9781</td>\n",
              "      <td>8.2257</td>\n",
              "      <td>1.8759</td>\n",
              "      <td>4.2075</td>\n",
              "      <td>6.2647</td>\n",
              "      <td>...</td>\n",
              "      <td>9.0816</td>\n",
              "      <td>52.6711</td>\n",
              "      <td>24.9152</td>\n",
              "      <td>3.6202</td>\n",
              "      <td>91.3448</td>\n",
              "      <td>13.6818</td>\n",
              "      <td>45.2880</td>\n",
              "      <td>2.3141</td>\n",
              "      <td>9.7668</td>\n",
              "      <td>2021-08-17 16:06:44</td>\n",
              "    </tr>\n",
              "    <tr>\n",
              "      <th>1</th>\n",
              "      <td>20180107</td>\n",
              "      <td>22</td>\n",
              "      <td>11380510</td>\n",
              "      <td>1115071010309</td>\n",
              "      <td>338.3900</td>\n",
              "      <td>23.2446</td>\n",
              "      <td>3.1141</td>\n",
              "      <td>1.9972</td>\n",
              "      <td>2.6983</td>\n",
              "      <td>0.1240</td>\n",
              "      <td>...</td>\n",
              "      <td>10.0707</td>\n",
              "      <td>9.9150</td>\n",
              "      <td>14.6710</td>\n",
              "      <td>29.2192</td>\n",
              "      <td>0.1533</td>\n",
              "      <td>36.7707</td>\n",
              "      <td>0.9227</td>\n",
              "      <td>4.6111</td>\n",
              "      <td>18.1781</td>\n",
              "      <td>2021-08-17 16:06:44</td>\n",
              "    </tr>\n",
              "    <tr>\n",
              "      <th>2</th>\n",
              "      <td>20180317</td>\n",
              "      <td>6</td>\n",
              "      <td>11680610</td>\n",
              "      <td>1113073020101</td>\n",
              "      <td>1805.5256</td>\n",
              "      <td>4.3720</td>\n",
              "      <td>324.3596</td>\n",
              "      <td>10.8350</td>\n",
              "      <td>12.1324</td>\n",
              "      <td>20.4938</td>\n",
              "      <td>...</td>\n",
              "      <td>28.8794</td>\n",
              "      <td>19.4895</td>\n",
              "      <td>1.6087</td>\n",
              "      <td>16.2525</td>\n",
              "      <td>8.1640</td>\n",
              "      <td>34.3989</td>\n",
              "      <td>3.4030</td>\n",
              "      <td>3.8434</td>\n",
              "      <td>4.4772</td>\n",
              "      <td>2021-08-17 16:06:44</td>\n",
              "    </tr>\n",
              "    <tr>\n",
              "      <th>3</th>\n",
              "      <td>20190222</td>\n",
              "      <td>7</td>\n",
              "      <td>11305575</td>\n",
              "      <td>1106071020403</td>\n",
              "      <td>504.4956</td>\n",
              "      <td>14.0599</td>\n",
              "      <td>14.3256</td>\n",
              "      <td>3.5239</td>\n",
              "      <td>19.3154</td>\n",
              "      <td>6.8197</td>\n",
              "      <td>...</td>\n",
              "      <td>0.2650</td>\n",
              "      <td>36.5731</td>\n",
              "      <td>14.3217</td>\n",
              "      <td>35.7359</td>\n",
              "      <td>7.2808</td>\n",
              "      <td>6.9919</td>\n",
              "      <td>27.4321</td>\n",
              "      <td>1.8361</td>\n",
              "      <td>7.7510</td>\n",
              "      <td>2021-08-17 16:06:44</td>\n",
              "    </tr>\n",
              "    <tr>\n",
              "      <th>4</th>\n",
              "      <td>20210706</td>\n",
              "      <td>6</td>\n",
              "      <td>11740660</td>\n",
              "      <td>1107073040015</td>\n",
              "      <td>744.6219</td>\n",
              "      <td>0.5662</td>\n",
              "      <td>2.9824</td>\n",
              "      <td>2.9719</td>\n",
              "      <td>31.0868</td>\n",
              "      <td>7.2338</td>\n",
              "      <td>...</td>\n",
              "      <td>39.7471</td>\n",
              "      <td>1.5230</td>\n",
              "      <td>47.5514</td>\n",
              "      <td>63.4768</td>\n",
              "      <td>52.3638</td>\n",
              "      <td>35.3496</td>\n",
              "      <td>32.1275</td>\n",
              "      <td>85.6665</td>\n",
              "      <td>95.0249</td>\n",
              "      <td>2021-08-17 16:06:44</td>\n",
              "    </tr>\n",
              "  </tbody>\n",
              "</table>\n",
              "<p>5 rows × 38 columns</p>\n",
              "</div>\n",
              "      <button class=\"colab-df-convert\" onclick=\"convertToInteractive('df-19b3b7bf-b0c5-4ba8-9d62-e0c191aeee32')\"\n",
              "              title=\"Convert this dataframe to an interactive table.\"\n",
              "              style=\"display:none;\">\n",
              "        \n",
              "  <svg xmlns=\"http://www.w3.org/2000/svg\" height=\"24px\"viewBox=\"0 0 24 24\"\n",
              "       width=\"24px\">\n",
              "    <path d=\"M0 0h24v24H0V0z\" fill=\"none\"/>\n",
              "    <path d=\"M18.56 5.44l.94 2.06.94-2.06 2.06-.94-2.06-.94-.94-2.06-.94 2.06-2.06.94zm-11 1L8.5 8.5l.94-2.06 2.06-.94-2.06-.94L8.5 2.5l-.94 2.06-2.06.94zm10 10l.94 2.06.94-2.06 2.06-.94-2.06-.94-.94-2.06-.94 2.06-2.06.94z\"/><path d=\"M17.41 7.96l-1.37-1.37c-.4-.4-.92-.59-1.43-.59-.52 0-1.04.2-1.43.59L10.3 9.45l-7.72 7.72c-.78.78-.78 2.05 0 2.83L4 21.41c.39.39.9.59 1.41.59.51 0 1.02-.2 1.41-.59l7.78-7.78 2.81-2.81c.8-.78.8-2.07 0-2.86zM5.41 20L4 18.59l7.72-7.72 1.47 1.35L5.41 20z\"/>\n",
              "  </svg>\n",
              "      </button>\n",
              "      \n",
              "  <style>\n",
              "    .colab-df-container {\n",
              "      display:flex;\n",
              "      flex-wrap:wrap;\n",
              "      gap: 12px;\n",
              "    }\n",
              "\n",
              "    .colab-df-convert {\n",
              "      background-color: #E8F0FE;\n",
              "      border: none;\n",
              "      border-radius: 50%;\n",
              "      cursor: pointer;\n",
              "      display: none;\n",
              "      fill: #1967D2;\n",
              "      height: 32px;\n",
              "      padding: 0 0 0 0;\n",
              "      width: 32px;\n",
              "    }\n",
              "\n",
              "    .colab-df-convert:hover {\n",
              "      background-color: #E2EBFA;\n",
              "      box-shadow: 0px 1px 2px rgba(60, 64, 67, 0.3), 0px 1px 3px 1px rgba(60, 64, 67, 0.15);\n",
              "      fill: #174EA6;\n",
              "    }\n",
              "\n",
              "    [theme=dark] .colab-df-convert {\n",
              "      background-color: #3B4455;\n",
              "      fill: #D2E3FC;\n",
              "    }\n",
              "\n",
              "    [theme=dark] .colab-df-convert:hover {\n",
              "      background-color: #434B5C;\n",
              "      box-shadow: 0px 1px 3px 1px rgba(0, 0, 0, 0.15);\n",
              "      filter: drop-shadow(0px 1px 2px rgba(0, 0, 0, 0.3));\n",
              "      fill: #FFFFFF;\n",
              "    }\n",
              "  </style>\n",
              "\n",
              "      <script>\n",
              "        const buttonEl =\n",
              "          document.querySelector('#df-19b3b7bf-b0c5-4ba8-9d62-e0c191aeee32 button.colab-df-convert');\n",
              "        buttonEl.style.display =\n",
              "          google.colab.kernel.accessAllowed ? 'block' : 'none';\n",
              "\n",
              "        async function convertToInteractive(key) {\n",
              "          const element = document.querySelector('#df-19b3b7bf-b0c5-4ba8-9d62-e0c191aeee32');\n",
              "          const dataTable =\n",
              "            await google.colab.kernel.invokeFunction('convertToInteractive',\n",
              "                                                     [key], {});\n",
              "          if (!dataTable) return;\n",
              "\n",
              "          const docLinkHtml = 'Like what you see? Visit the ' +\n",
              "            '<a target=\"_blank\" href=https://colab.research.google.com/notebooks/data_table.ipynb>data table notebook</a>'\n",
              "            + ' to learn more about interactive tables.';\n",
              "          element.innerHTML = '';\n",
              "          dataTable['output_type'] = 'display_data';\n",
              "          await google.colab.output.renderOutput(dataTable, element);\n",
              "          const docLink = document.createElement('div');\n",
              "          docLink.innerHTML = docLinkHtml;\n",
              "          element.appendChild(docLink);\n",
              "        }\n",
              "      </script>\n",
              "    </div>\n",
              "  </div>\n",
              "  "
            ]
          },
          "metadata": {},
          "execution_count": 10
        }
      ],
      "source": [
        "sample = pd.read_csv(\"/content/drive/MyDrive/파이썬 세미나/세미나 내용/python-seminar/data/내국인 생활인구 - 내국인 생활인구.csv\")\n",
        "sample.head()"
      ]
    },
    {
      "cell_type": "markdown",
      "id": "5e1dd889",
      "metadata": {
        "id": "5e1dd889"
      },
      "source": [
        "## 1. 컬럼명 바꾸기\n",
        "\n",
        "sample에 있는 컬럼명에서 한글 컬럼명만 남겨주세요.  \n",
        "예시: `일자(stdr_de_id)` -> `일자`"
      ]
    },
    {
      "cell_type": "code",
      "execution_count": 16,
      "id": "723e583f",
      "metadata": {
        "id": "723e583f",
        "colab": {
          "base_uri": "https://localhost:8080/"
        },
        "outputId": "7d0b0f0a-b1f7-4128-d31a-30dd0ef76d88"
      },
      "outputs": [
        {
          "output_type": "execute_result",
          "data": {
            "text/plain": [
              "Index(['일자(stdr_de_id)', '시간(tmzon_pd_se)', '행정동코드(adstrd_code_se)',\n",
              "       '집계구코드(oa_cd)', '생활인구합계(tot_lvpop_co)', '남자0~9세(male_f0t9_lvpop_co)',\n",
              "       '남자10~14세(male_f10t14_lvpop_co)', '남자15~19세(male_f15t19_lvpop_co)',\n",
              "       '남자20~24세(male_f20t24_lvpop_co)', '남자25~29세(male_f25t29_lvpop_co)',\n",
              "       '남자30~34세(male_f30t34_lvpop_co)', '남자35~39세(male_f35t39_lvpop_co)',\n",
              "       '남자40~44세(male_f40t44_lvpop_co)', '남자45~49세(male_f45t49_lvpop_co)',\n",
              "       '남자50~54세(male_f50t54_lvpop_co)', '남자55~59세(male_f55t59_lvpop_co)',\n",
              "       '남자60~64세(male_f60t64_lvpop_co)', '남자65~69세(male_f65t69_lvpop_co)',\n",
              "       '남자70~74세(male_f70t74_lvpop_co)', '남자75~79세(male_f75t79_lvpop_co)',\n",
              "       '남자80세이상(male_above_80_lvpop_co)', '여자0~9세(female_f0t9_lvpop_co)',\n",
              "       '여자10~14세(female_f10t14_lvpop_co)', '여자15~19세(female_f15t19_lvpop_co)',\n",
              "       '여자20~24세(female_f20t24_lvpop_co)', '여자25~29세(female_f25t29_lvpop_co)',\n",
              "       '여자30~34세(female_f30t34_lvpop_co)', '여자35~39세(female_f35t39_lvpop_co)',\n",
              "       '여자40~44세(female_f40t44_lvpop_co)', '여자45~49세(female_f45t49_lvpop_co)',\n",
              "       '여자50~54세(female_f50t54_lvpop_co)', '여자55~59세(female_f55t59_lvpop_co)',\n",
              "       '여자60~64세(female_f60t64_lvpop_co)', '여자65~69세(female_f65t69_lvpop_co)',\n",
              "       '여자70~74세(female_f70t74_lvpop_co)', '여자75~79세(female_f75t79_lvpop_co)',\n",
              "       '여자80세이상(female_above_80_lvpop_co)', '등록일자(ldadng_dt)'],\n",
              "      dtype='object')"
            ]
          },
          "metadata": {},
          "execution_count": 16
        }
      ],
      "source": [
        "# 컬럼명 조회\n",
        "sample.columns"
      ]
    },
    {
      "cell_type": "markdown",
      "id": "b96a8eac",
      "metadata": {
        "id": "b96a8eac"
      },
      "source": [
        "## 2. 인덱스 설정\n",
        "`일자` 컬럼을 인덱스로 설정해주세요."
      ]
    },
    {
      "cell_type": "markdown",
      "id": "936262e1",
      "metadata": {
        "id": "936262e1"
      },
      "source": [
        "일자 인덱스를 datetime 형식으로 변경한 뒤, 날짜 오름차 순으로 데이터를 정렬할 것입니다.  \n",
        "astype() 메서드를 사용해서 sample.index를 str형으로 바꿔주세요.\n",
        "\n",
        "https://pandas.pydata.org/docs/reference/api/pandas.DataFrame.astype.html"
      ]
    },
    {
      "cell_type": "code",
      "execution_count": null,
      "id": "52a884f3",
      "metadata": {
        "id": "52a884f3"
      },
      "outputs": [],
      "source": []
    },
    {
      "cell_type": "markdown",
      "id": "b6f1f9f2",
      "metadata": {
        "id": "b6f1f9f2"
      },
      "source": [
        "str로 변경된 인덱스를 pd.to_datetime 메서드를 사용하여 datetime 형식으로 바꿔주세요.\n",
        "\n",
        "https://pandas.pydata.org/docs/reference/api/pandas.to_datetime.html"
      ]
    },
    {
      "cell_type": "code",
      "execution_count": null,
      "id": "f556b9eb",
      "metadata": {
        "id": "f556b9eb"
      },
      "outputs": [],
      "source": []
    },
    {
      "cell_type": "markdown",
      "id": "706ca369",
      "metadata": {
        "id": "706ca369"
      },
      "source": [
        "sort_index() 메서드를 사용하여 주어진 데이터를 인덱스 날짜 오름차 순으로 정렬해주세요.\n",
        "\n",
        "https://pandas.pydata.org/docs/reference/api/pandas.DataFrame.sort_index.html"
      ]
    },
    {
      "cell_type": "code",
      "execution_count": null,
      "id": "f4bf5c39",
      "metadata": {
        "id": "f4bf5c39"
      },
      "outputs": [],
      "source": []
    },
    {
      "cell_type": "markdown",
      "id": "590453d6",
      "metadata": {
        "id": "590453d6"
      },
      "source": [
        "## 3. 조건에 맞는 데이터 추출\n",
        "집계구 코드가 `1107073040015` 또는 `1113073020101`인 행을 뽑아주세요."
      ]
    },
    {
      "cell_type": "code",
      "execution_count": null,
      "id": "9e6a04f5",
      "metadata": {
        "id": "9e6a04f5"
      },
      "outputs": [],
      "source": []
    },
    {
      "cell_type": "markdown",
      "id": "8fff1467",
      "metadata": {
        "id": "8fff1467"
      },
      "source": [
        "## 4. apply 활용\n",
        "\n",
        "각 행에 대해 남성 인구의 합을 구하여 `남자인구 합계` 이름을 가진 컬럼을 생성해주세요."
      ]
    },
    {
      "cell_type": "code",
      "execution_count": null,
      "id": "f4dc7bda",
      "metadata": {
        "id": "f4dc7bda"
      },
      "outputs": [],
      "source": []
    },
    {
      "cell_type": "markdown",
      "id": "eae9d4f0",
      "metadata": {
        "id": "eae9d4f0"
      },
      "source": [
        "## 5. 시각화"
      ]
    },
    {
      "cell_type": "markdown",
      "id": "d6681dc2",
      "metadata": {
        "id": "d6681dc2"
      },
      "source": [
        "남성인구 중 남자0\\~9세가 차지하는 비율을 계산하여 \"남자0~9세 비율\" 컬럼을 만들어주세요."
      ]
    },
    {
      "cell_type": "markdown",
      "id": "1171f527",
      "metadata": {
        "id": "1171f527"
      },
      "source": []
    },
    {
      "cell_type": "markdown",
      "id": "a8b715d3",
      "metadata": {
        "id": "a8b715d3"
      },
      "source": [
        "시간의 흐름에 따라 전체 남자 생활인구 대비 `남자0~9세 비율`의 변화를 한 눈에 알 수 있도록  \n",
        "`남자0~9세 비율`을 선 그래프로 나타내주세요.\n",
        "\n",
        "\n",
        "* 한글 폰트가 깨지지 않도록 처리해주세요.\n",
        "* 그래프 사이즈는 20\\*10으로 해주세요."
      ]
    },
    {
      "cell_type": "code",
      "execution_count": null,
      "id": "92eac4dc",
      "metadata": {
        "id": "92eac4dc"
      },
      "outputs": [],
      "source": []
    }
  ],
  "metadata": {
    "kernelspec": {
      "display_name": "Python 3",
      "language": "python",
      "name": "python3"
    },
    "language_info": {
      "codemirror_mode": {
        "name": "ipython",
        "version": 3
      },
      "file_extension": ".py",
      "mimetype": "text/x-python",
      "name": "python",
      "nbconvert_exporter": "python",
      "pygments_lexer": "ipython3",
      "version": "3.8.10"
    },
    "vscode": {
      "interpreter": {
        "hash": "fefe14d86dbf464a74b0ad3840b02c3e3bba1825d5f4f95f0210125818b468e3"
      }
    },
    "colab": {
      "provenance": [],
      "include_colab_link": true
    }
  },
  "nbformat": 4,
  "nbformat_minor": 5
}