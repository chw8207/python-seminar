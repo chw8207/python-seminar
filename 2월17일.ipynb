{
  "nbformat": 4,
  "nbformat_minor": 0,
  "metadata": {
    "colab": {
      "provenance": [],
      "mount_file_id": "1jmitfIZuIffnIfJp6JMp_h8nKSRRp_Gb",
      "authorship_tag": "ABX9TyNX1ot2Mf3ynOXxH7ye5CC3",
      "include_colab_link": true
    },
    "kernelspec": {
      "name": "python3",
      "display_name": "Python 3"
    },
    "language_info": {
      "name": "python"
    }
  },
  "cells": [
    {
      "cell_type": "markdown",
      "metadata": {
        "id": "view-in-github",
        "colab_type": "text"
      },
      "source": [
        "<a href=\"https://colab.research.google.com/github/chw8207/python-seminar/blob/main/2%EC%9B%9417%EC%9D%BC.ipynb\" target=\"_parent\"><img src=\"https://colab.research.google.com/assets/colab-badge.svg\" alt=\"Open In Colab\"/></a>"
      ]
    },
    {
      "cell_type": "code",
      "execution_count": 1,
      "metadata": {
        "id": "nR3nxxoQzDhO"
      },
      "outputs": [],
      "source": [
        "import pandas as pd"
      ]
    },
    {
      "cell_type": "code",
      "source": [
        "df = pd.read_csv('/content/drive/MyDrive/파이썬 세미나/세미나 내용/python-seminar/data/train - train.csv')"
      ],
      "metadata": {
        "id": "gs13shbU0-Eu"
      },
      "execution_count": 2,
      "outputs": []
    }
  ]
}