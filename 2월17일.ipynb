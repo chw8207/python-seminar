{
  "nbformat": 4,
  "nbformat_minor": 0,
  "metadata": {
    "colab": {
      "provenance": [],
      "mount_file_id": "1jmitfIZuIffnIfJp6JMp_h8nKSRRp_Gb",
      "authorship_tag": "ABX9TyO0KrN2gQHOSHUkpObddRD5",
      "include_colab_link": true
    },
    "kernelspec": {
      "name": "python3",
      "display_name": "Python 3"
    },
    "language_info": {
      "name": "python"
    }
  },
  "cells": [
    {
      "cell_type": "markdown",
      "metadata": {
        "id": "view-in-github",
        "colab_type": "text"
      },
      "source": [
        "<a href=\"https://colab.research.google.com/github/chw8207/python-seminar/blob/main/2%EC%9B%9417%EC%9D%BC.ipynb\" target=\"_parent\"><img src=\"https://colab.research.google.com/assets/colab-badge.svg\" alt=\"Open In Colab\"/></a>"
      ]
    },
    {
      "cell_type": "code",
      "execution_count": 1,
      "metadata": {
        "id": "nR3nxxoQzDhO"
      },
      "outputs": [],
      "source": [
        "import pandas as pd"
      ]
    },
    {
      "cell_type": "code",
      "source": [
        "df = pd.read_csv('/content/drive/MyDrive/파이썬 세미나/세미나 내용/python-seminar/data/train - train.csv')"
      ],
      "metadata": {
        "id": "gs13shbU0-Eu"
      },
      "execution_count": 2,
      "outputs": []
    },
    {
      "cell_type": "code",
      "source": [
        "# 시리즈 생성\n",
        "# 1. dictionary\n",
        "series1 = pd.Series({'apple' : 1000, 'orange' : 3000, 'banana' : 5000})\n",
        "series1"
      ],
      "metadata": {
        "colab": {
          "base_uri": "https://localhost:8080/"
        },
        "id": "dKrg38Sq1U1j",
        "outputId": "7773e8fc-309f-4985-a8a9-0f54a0d17da9"
      },
      "execution_count": 3,
      "outputs": [
        {
          "output_type": "execute_result",
          "data": {
            "text/plain": [
              "apple     1000\n",
              "orange    3000\n",
              "banana    5000\n",
              "dtype: int64"
            ]
          },
          "metadata": {},
          "execution_count": 3
        }
      ]
    },
    {
      "cell_type": "code",
      "source": [
        "#2. list\n",
        "series2 = pd.Series([1000,3000,5000], index = ['apple', 'orange', 'banana'])\n",
        "series2"
      ],
      "metadata": {
        "colab": {
          "base_uri": "https://localhost:8080/"
        },
        "id": "bpsLevHI13mR",
        "outputId": "e0815fa9-ab3e-4348-9893-5bd192c4dc30"
      },
      "execution_count": 4,
      "outputs": [
        {
          "output_type": "execute_result",
          "data": {
            "text/plain": [
              "apple     1000\n",
              "orange    3000\n",
              "banana    5000\n",
              "dtype: int64"
            ]
          },
          "metadata": {},
          "execution_count": 4
        }
      ]
    }
  ]
}