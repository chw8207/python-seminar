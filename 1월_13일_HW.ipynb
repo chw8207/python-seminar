{
  "nbformat": 4,
  "nbformat_minor": 0,
  "metadata": {
    "colab": {
      "provenance": [],
      "mount_file_id": "1LEbarJX0DFJ7o5gjiMAHnvk4BjbvjfyH",
      "authorship_tag": "ABX9TyPcR6Z9I8WnursO+Z0KsUm8",
      "include_colab_link": true
    },
    "kernelspec": {
      "name": "python3",
      "display_name": "Python 3"
    },
    "language_info": {
      "name": "python"
    }
  },
  "cells": [
    {
      "cell_type": "markdown",
      "metadata": {
        "id": "view-in-github",
        "colab_type": "text"
      },
      "source": [
        "<a href=\"https://colab.research.google.com/github/chw8207/python-seminar/blob/main/1%EC%9B%94_13%EC%9D%BC_HW.ipynb\" target=\"_parent\"><img src=\"https://colab.research.google.com/assets/colab-badge.svg\" alt=\"Open In Colab\"/></a>"
      ]
    },
    {
      "cell_type": "code",
      "execution_count": 17,
      "metadata": {
        "colab": {
          "base_uri": "https://localhost:8080/"
        },
        "id": "PuCImJFG2j7R",
        "outputId": "92c33c0c-36d1-433d-9baf-493c2d21965c"
      },
      "outputs": [
        {
          "output_type": "stream",
          "name": "stdout",
          "text": [
            "2\n",
            "2*1=2\n",
            "2*2=4\n",
            "2*3=6\n",
            "2*4=8\n",
            "2*5=10\n",
            "2*6=12\n",
            "2*7=14\n",
            "2*8=16\n",
            "2*9=18\n"
          ]
        }
      ],
      "source": [
        "# n단 구구단\n",
        "# n = int(input())\n",
        "\n",
        "def times() : \n",
        "  n = int(input())\n",
        "  for j in range(1,10) : \n",
        "    print(f'{n}*{j}={n*j}')\n",
        "\n",
        "times()"
      ]
    },
    {
      "cell_type": "code",
      "source": [
        "# 세 수 가장 큰 수, 곱, 합 출력하는 함수\n",
        "a, b, c = map(int, input().split())\n",
        "\n",
        "def triple(a, b, c) : \n",
        "  print(max(a,b,c), (a*b*c), (a+b+c))\n",
        "\n",
        "triple(a, b, c)"
      ],
      "metadata": {
        "colab": {
          "base_uri": "https://localhost:8080/"
        },
        "id": "V5b73F-j39Hp",
        "outputId": "a7890bed-4b86-4703-862b-a3b8cb4828a7"
      },
      "execution_count": 7,
      "outputs": [
        {
          "output_type": "stream",
          "name": "stdout",
          "text": [
            "1 5 7\n",
            "7 35 13\n"
          ]
        }
      ]
    },
    {
      "cell_type": "code",
      "source": [
        "# 좌표 문제\n",
        "x, y = map(int, input().split())\n",
        "\n",
        "def xydot(x, y) : \n",
        "  if x>0 : \n",
        "    if y>0 : \n",
        "      print('Quadrant 1')\n",
        "    else : \n",
        "      print('Quadrant 4')\n",
        "  else : \n",
        "    if y>0 : \n",
        "      print('Quadrant 2')\n",
        "    else :\n",
        "      print('Quadrant 3')\n",
        "\n",
        "xydot(x, y)"
      ],
      "metadata": {
        "colab": {
          "base_uri": "https://localhost:8080/"
        },
        "id": "gt3UlB4g5Qew",
        "outputId": "a3e6e980-83fc-4a8b-ab3a-4817cb23687b"
      },
      "execution_count": 12,
      "outputs": [
        {
          "output_type": "stream",
          "name": "stdout",
          "text": [
            "-5 5\n",
            "Quadrant 2\n"
          ]
        }
      ]
    },
    {
      "cell_type": "code",
      "source": [
        "#1부터 N까지 합 구하기\n",
        "n = int(input())\n",
        "\n",
        "def total(n) : \n",
        "  sum = 0\n",
        "  for i in range(1, n+1) : \n",
        "    sum += i\n",
        "  print(sum)\n",
        "\n",
        "total(n)"
      ],
      "metadata": {
        "colab": {
          "base_uri": "https://localhost:8080/"
        },
        "id": "2Yf2OJG66Jnh",
        "outputId": "0dc13718-8c8d-4840-9c62-01cc6fb5a911"
      },
      "execution_count": 14,
      "outputs": [
        {
          "output_type": "stream",
          "name": "stdout",
          "text": [
            "5\n",
            "15\n"
          ]
        }
      ]
    }
  ]
}