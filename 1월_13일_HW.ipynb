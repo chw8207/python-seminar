{
  "nbformat": 4,
  "nbformat_minor": 0,
  "metadata": {
    "colab": {
      "provenance": [],
      "mount_file_id": "1LEbarJX0DFJ7o5gjiMAHnvk4BjbvjfyH",
      "authorship_tag": "ABX9TyMBajbB1RNuT8bFJqmgXB5V",
      "include_colab_link": true
    },
    "kernelspec": {
      "name": "python3",
      "display_name": "Python 3"
    },
    "language_info": {
      "name": "python"
    }
  },
  "cells": [
    {
      "cell_type": "markdown",
      "metadata": {
        "id": "view-in-github",
        "colab_type": "text"
      },
      "source": [
        "<a href=\"https://colab.research.google.com/github/chw8207/python-seminar/blob/main/1%EC%9B%94_13%EC%9D%BC_HW.ipynb\" target=\"_parent\"><img src=\"https://colab.research.google.com/assets/colab-badge.svg\" alt=\"Open In Colab\"/></a>"
      ]
    },
    {
      "cell_type": "code",
      "execution_count": 5,
      "metadata": {
        "colab": {
          "base_uri": "https://localhost:8080/"
        },
        "id": "PuCImJFG2j7R",
        "outputId": "6f3de46e-8334-47bd-fce8-194378d0609a"
      },
      "outputs": [
        {
          "output_type": "stream",
          "name": "stdout",
          "text": [
            "2\n",
            "2  *  0 = 0\n",
            "2  *  1 = 2\n",
            "2  *  2 = 4\n",
            "2  *  3 = 6\n",
            "2  *  4 = 8\n",
            "2  *  5 = 10\n",
            "2  *  6 = 12\n",
            "2  *  7 = 14\n",
            "2  *  8 = 16\n",
            "2  *  9 = 18\n"
          ]
        }
      ],
      "source": [
        "# n단 구구단\n",
        "n = int(input())\n",
        "\n",
        "def times(n) : \n",
        "  for j in range(10) : \n",
        "    print(n,' * ', j, '=', n*j)\n",
        "\n",
        "times(n)"
      ]
    }
  ]
}