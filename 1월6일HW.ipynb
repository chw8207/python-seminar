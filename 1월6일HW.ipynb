{
  "nbformat": 4,
  "nbformat_minor": 0,
  "metadata": {
    "colab": {
      "provenance": [],
      "mount_file_id": "1qMhgmAuWSm1-7HtVur719IBewSq7aLc6",
      "authorship_tag": "ABX9TyOTsv6PUEnlpUZeUxy812i4",
      "include_colab_link": true
    },
    "kernelspec": {
      "name": "python3",
      "display_name": "Python 3"
    },
    "language_info": {
      "name": "python"
    }
  },
  "cells": [
    {
      "cell_type": "markdown",
      "metadata": {
        "id": "view-in-github",
        "colab_type": "text"
      },
      "source": [
        "<a href=\"https://colab.research.google.com/github/chw8207/python-seminar/blob/main/1%EC%9B%946%EC%9D%BCHW.ipynb\" target=\"_parent\"><img src=\"https://colab.research.google.com/assets/colab-badge.svg\" alt=\"Open In Colab\"/></a>"
      ]
    },
    {
      "cell_type": "code",
      "execution_count": 1,
      "metadata": {
        "id": "MCRZAebSiHkb"
      },
      "outputs": [],
      "source": [
        "# 점수 평균 구하기\n",
        "# 국어 67점, 수학 89점, 영어 98점\n",
        "avg = (67+89+98)/3"
      ]
    }
  ]
}