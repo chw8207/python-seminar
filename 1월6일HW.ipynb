{
  "nbformat": 4,
  "nbformat_minor": 0,
  "metadata": {
    "colab": {
      "provenance": [],
      "mount_file_id": "1qMhgmAuWSm1-7HtVur719IBewSq7aLc6",
      "authorship_tag": "ABX9TyPiyMdprlR9Tj0w3O0Dp/EV",
      "include_colab_link": true
    },
    "kernelspec": {
      "name": "python3",
      "display_name": "Python 3"
    },
    "language_info": {
      "name": "python"
    }
  },
  "cells": [
    {
      "cell_type": "markdown",
      "metadata": {
        "id": "view-in-github",
        "colab_type": "text"
      },
      "source": [
        "<a href=\"https://colab.research.google.com/github/chw8207/python-seminar/blob/main/1%EC%9B%946%EC%9D%BCHW.ipynb\" target=\"_parent\"><img src=\"https://colab.research.google.com/assets/colab-badge.svg\" alt=\"Open In Colab\"/></a>"
      ]
    },
    {
      "cell_type": "code",
      "execution_count": 1,
      "metadata": {
        "id": "MCRZAebSiHkb"
      },
      "outputs": [],
      "source": [
        "# 점수 평균 구하기\n",
        "# 국어 67점, 수학 89점, 영어 98점\n",
        "avg = (67+89+98)/3"
      ]
    },
    {
      "cell_type": "code",
      "source": [
        "# 자연수 13이 홀수인지 짝수인지 판별하기\n",
        "n = 13\n",
        "if n%2 !=0 : \n",
        "  print('홀수입니다!')\n",
        "else : \n",
        "  print('짝수입니다!')"
      ],
      "metadata": {
        "colab": {
          "base_uri": "https://localhost:8080/"
        },
        "id": "NpjvjAngioXS",
        "outputId": "57250f34-b333-4dad-b089-2a9426ca34cf"
      },
      "execution_count": 2,
      "outputs": [
        {
          "output_type": "stream",
          "name": "stdout",
          "text": [
            "홀수입니다!\n"
          ]
        }
      ]
    },
    {
      "cell_type": "markdown",
      "source": [
        "# B의 주민등록번호\n",
        " - 981212-1034873"
      ],
      "metadata": {
        "id": "28DA_frOjArB"
      }
    },
    {
      "cell_type": "code",
      "source": [
        "# 주민번호를 연월일 부분과 뒤 숫자 부분으로 나누어서 출력하기\n",
        "id_num = '981212-1034873'\n",
        "id_num = id_num.split('-')\n",
        "print(f'연월일 : {id_num[0]}')\n",
        "print(f'숫자부분 : {id_num[1]}')"
      ],
      "metadata": {
        "colab": {
          "base_uri": "https://localhost:8080/"
        },
        "id": "SujBVTTJi-5j",
        "outputId": "ca6fdd0b-ba4f-451b-8899-c7d3770d91d2"
      },
      "execution_count": 6,
      "outputs": [
        {
          "output_type": "stream",
          "name": "stdout",
          "text": [
            "연월일 : 981212\n",
            "숫자부분 : 1034873\n"
          ]
        }
      ]
    },
    {
      "cell_type": "code",
      "source": [
        "# 성별을 나타내는 숫자 출력하기\n",
        "id_num = '981212-1034873'\n",
        "print(f'성별 : {id_num[7]}')"
      ],
      "metadata": {
        "colab": {
          "base_uri": "https://localhost:8080/"
        },
        "id": "8pD28H6Rjlfe",
        "outputId": "4fde5376-0607-4022-c993-12b782d87925"
      },
      "execution_count": 7,
      "outputs": [
        {
          "output_type": "stream",
          "name": "stdout",
          "text": [
            "성별 : 1\n"
          ]
        }
      ]
    },
    {
      "cell_type": "code",
      "source": [
        "# 문자열 '1:2:3:4'를 '1#2#3#4'로 바꾸어 출력하기\n",
        "str_n = '1:2:3:4'\n",
        "print(str_n.replace(':', '#'))"
      ],
      "metadata": {
        "colab": {
          "base_uri": "https://localhost:8080/"
        },
        "id": "bnTOKZaMkCrl",
        "outputId": "4ffe3a9b-97a3-456a-edcd-e33ae052df54"
      },
      "execution_count": 8,
      "outputs": [
        {
          "output_type": "stream",
          "name": "stdout",
          "text": [
            "1#2#3#4\n"
          ]
        }
      ]
    },
    {
      "cell_type": "code",
      "source": [
        "# 리스트 [1,3,5,6,4]를 [6,5,4,3,1]로 변환하기\n",
        "list1 = [1,3,5,6,4]\n",
        "list1.sort(reverse=True)\n",
        "print(list1)"
      ],
      "metadata": {
        "colab": {
          "base_uri": "https://localhost:8080/"
        },
        "id": "GVodlNxVkZ4l",
        "outputId": "208159ee-cd60-46bb-fa0e-64937afd368b"
      },
      "execution_count": 15,
      "outputs": [
        {
          "output_type": "stream",
          "name": "stdout",
          "text": [
            "[6, 5, 4, 3, 1]\n"
          ]
        }
      ]
    },
    {
      "cell_type": "code",
      "source": [
        "# 리스트 ['Life', 'is', 'too', 'short']를\n",
        "# 'Life is too short'로 변환하여 출력하기\n",
        "sen = ['Life', 'is', 'too', 'short']\n",
        "\" \".join(sen)"
      ],
      "metadata": {
        "colab": {
          "base_uri": "https://localhost:8080/",
          "height": 35
        },
        "id": "uS7xsx8jmyuH",
        "outputId": "3beae2c8-9bfc-48a3-dbe0-089cc65ab65f"
      },
      "execution_count": 17,
      "outputs": [
        {
          "output_type": "execute_result",
          "data": {
            "text/plain": [
              "'Life is too short'"
            ],
            "application/vnd.google.colaboratory.intrinsic+json": {
              "type": "string"
            }
          },
          "metadata": {},
          "execution_count": 17
        }
      ]
    }
  ]
}