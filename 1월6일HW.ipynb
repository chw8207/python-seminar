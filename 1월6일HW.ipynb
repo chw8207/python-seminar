{
  "nbformat": 4,
  "nbformat_minor": 0,
  "metadata": {
    "colab": {
      "provenance": [],
      "mount_file_id": "1qMhgmAuWSm1-7HtVur719IBewSq7aLc6",
      "authorship_tag": "ABX9TyOQ2KWZBQU4cfDgH81id1Uq",
      "include_colab_link": true
    },
    "kernelspec": {
      "name": "python3",
      "display_name": "Python 3"
    },
    "language_info": {
      "name": "python"
    }
  },
  "cells": [
    {
      "cell_type": "markdown",
      "metadata": {
        "id": "view-in-github",
        "colab_type": "text"
      },
      "source": [
        "<a href=\"https://colab.research.google.com/github/chw8207/python-seminar/blob/main/1%EC%9B%946%EC%9D%BCHW.ipynb\" target=\"_parent\"><img src=\"https://colab.research.google.com/assets/colab-badge.svg\" alt=\"Open In Colab\"/></a>"
      ]
    },
    {
      "cell_type": "code",
      "execution_count": 1,
      "metadata": {
        "id": "MCRZAebSiHkb"
      },
      "outputs": [],
      "source": [
        "# 점수 평균 구하기\n",
        "# 국어 67점, 수학 89점, 영어 98점\n",
        "avg = (67+89+98)/3"
      ]
    },
    {
      "cell_type": "code",
      "source": [
        "# 자연수 13이 홀수인지 짝수인지 판별하기\n",
        "n = 13\n",
        "if n%2 !=0 : \n",
        "  print('홀수입니다!')\n",
        "else : \n",
        "  print('짝수입니다!')"
      ],
      "metadata": {
        "colab": {
          "base_uri": "https://localhost:8080/"
        },
        "id": "NpjvjAngioXS",
        "outputId": "57250f34-b333-4dad-b089-2a9426ca34cf"
      },
      "execution_count": 2,
      "outputs": [
        {
          "output_type": "stream",
          "name": "stdout",
          "text": [
            "홀수입니다!\n"
          ]
        }
      ]
    }
  ]
}